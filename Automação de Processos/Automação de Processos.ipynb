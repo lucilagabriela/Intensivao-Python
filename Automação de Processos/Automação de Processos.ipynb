{
 "cells": [
  {
   "cell_type": "code",
   "execution_count": 5,
   "id": "ccf581a8",
   "metadata": {},
   "outputs": [
    {
     "name": "stdout",
     "output_type": "stream",
     "text": [
      "Requirement already satisfied: pyautogui in c:\\users\\lucila\\anaconda3\\lib\\site-packages (0.9.53)\n",
      "Requirement already satisfied: pyscreeze>=0.1.21 in c:\\users\\lucila\\anaconda3\\lib\\site-packages (from pyautogui) (0.1.28)\n",
      "Requirement already satisfied: mouseinfo in c:\\users\\lucila\\anaconda3\\lib\\site-packages (from pyautogui) (0.1.3)\n",
      "Requirement already satisfied: PyTweening>=1.0.1 in c:\\users\\lucila\\anaconda3\\lib\\site-packages (from pyautogui) (1.0.4)\n",
      "Requirement already satisfied: pygetwindow>=0.0.5 in c:\\users\\lucila\\anaconda3\\lib\\site-packages (from pyautogui) (0.0.9)\n",
      "Requirement already satisfied: pymsgbox in c:\\users\\lucila\\anaconda3\\lib\\site-packages (from pyautogui) (1.0.9)\n",
      "Requirement already satisfied: pyrect in c:\\users\\lucila\\anaconda3\\lib\\site-packages (from pygetwindow>=0.0.5->pyautogui) (0.2.0)\n",
      "Requirement already satisfied: pyperclip in c:\\users\\lucila\\anaconda3\\lib\\site-packages (from mouseinfo->pyautogui) (1.8.2)\n"
     ]
    }
   ],
   "source": [
    "!pip install pyautogui"
   ]
  },
  {
   "cell_type": "code",
   "execution_count": 6,
   "id": "48a0a4a6",
   "metadata": {},
   "outputs": [],
   "source": [
    "import pyautogui as pa\n",
    "import pyperclip\n",
    "import time\n",
    "\n",
    "pa.PAUSE = 1\n",
    "\n",
    "# Entrar no Sistema da Empresa (link do drive)\n",
    "pa.hotkey(\"ctrl\", \"t\")\n",
    "pyperclip.copy(\"https://drive.google.com/drive/folders/149xknr9JvrlEnhNWO49zPcw0PW5icxga\")\n",
    "pa.hotkey(\"ctrl\", \"v\")\n",
    "#pa.write(\"https://drive.google.com/drive/folders/149xknr9JvrlEnhNWO49zPcw0PW5icxga\")\n",
    "\n",
    "# Navegar até o local do relatório\n",
    "pa.press(\"enter\")\n",
    "time.sleep(5)\n",
    "#print(pyautogui.position())\n",
    "pa.click(x=452, y=320, clicks=2)\n",
    "\n",
    "# Exportar o relatório\n",
    "pa.click(x=370, y=405)\n",
    "pa.click(x=1162, y=186)\n",
    "pa.click(x=953, y=594)\n",
    "time.sleep(5)"
   ]
  },
  {
   "cell_type": "code",
   "execution_count": 7,
   "id": "af6ac4f0",
   "metadata": {},
   "outputs": [
    {
     "name": "stdout",
     "output_type": "stream",
     "text": [
      "Point(x=953, y=594)\n"
     ]
    }
   ],
   "source": [
    "import time\n",
    "time.sleep(5)\n",
    "\n",
    "print(pa.position())"
   ]
  },
  {
   "cell_type": "code",
   "execution_count": 8,
   "id": "75fae304",
   "metadata": {},
   "outputs": [
    {
     "name": "stdout",
     "output_type": "stream",
     "text": [
      "2917311\n",
      "15227\n"
     ]
    }
   ],
   "source": [
    "# Calcular os indicadores (faturamento e quantidade de produtos)\n",
    "import pandas as pd\n",
    "\n",
    "tabela = pd.read_excel(r\"C:\\Users\\Lucila\\Downloads\\Intensivao-Python\\Automação de Processos\\Vendas - Dez.xlsx\")\n",
    "#display(tabela)\n",
    "faturamento = tabela[\"Valor Final\"].sum()\n",
    "quantidade = tabela[\"Quantidade\"].sum()\n",
    "print(faturamento)\n",
    "print(quantidade)"
   ]
  },
  {
   "cell_type": "code",
   "execution_count": 9,
   "id": "cd0bbe4e",
   "metadata": {},
   "outputs": [],
   "source": [
    "# Enviar um e-mail para a diretoria\n",
    "#abrir aba e entrar no email -> clicar em escrever -> preencher infos -> enviar email\n",
    "pa.hotkey(\"ctrl\", \"t\")\n",
    "pyperclip.copy(\"https://mail.google.com/mail/u/0/#inbox\")\n",
    "pa.hotkey(\"ctrl\", \"v\")\n",
    "pa.press(\"enter\")\n",
    "time.sleep(5)\n",
    "pa.click(x=83, y=209)\n",
    "\n",
    "pa.write(\"lucilagdac@gmail.com\") # destinatario\n",
    "pa.press(\"enter\")\n",
    "pa.press(\"tab\") # pular para assunto\n",
    "\n",
    "pyperclip.copy(\"Relatório de Vendas\")\n",
    "pa.hotkey(\"ctrl\", \"v\")\n",
    "#pa.write(\"Relatório de Vendas\")\n",
    "pa.press(\"tab\") # pular para corpo de texto\n",
    "texto = f\"\"\"Prezados, bom dia.\n",
    "O faturamento de ontem foi de: R${faturamento:,.2f}\n",
    "A quantidade de produtos foi de: {quantidade:,}\n",
    "Att, L.\"\"\"\n",
    "pa.write(texto)\n",
    "\n",
    "pa.hotkey(\"ctrl\", \"enter\")"
   ]
  },
  {
   "cell_type": "code",
   "execution_count": null,
   "id": "73affe44",
   "metadata": {},
   "outputs": [],
   "source": []
  }
 ],
 "metadata": {
  "kernelspec": {
   "display_name": "Python 3 (ipykernel)",
   "language": "python",
   "name": "python3"
  },
  "language_info": {
   "codemirror_mode": {
    "name": "ipython",
    "version": 3
   },
   "file_extension": ".py",
   "mimetype": "text/x-python",
   "name": "python",
   "nbconvert_exporter": "python",
   "pygments_lexer": "ipython3",
   "version": "3.9.13"
  }
 },
 "nbformat": 4,
 "nbformat_minor": 5
}
